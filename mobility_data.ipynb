{
 "cells": [
  {
   "cell_type": "code",
   "execution_count": 1,
   "id": "df868d16",
   "metadata": {},
   "outputs": [],
   "source": [
    "import pandas as pd\n"
   ]
  },
  {
   "cell_type": "code",
   "execution_count": 10,
   "id": "a77e9b24",
   "metadata": {},
   "outputs": [],
   "source": [
    "df=pd.read_csv('mobile_events_2020.csv',sep=';')"
   ]
  },
  {
   "cell_type": "code",
   "execution_count": 11,
   "id": "f64e1a0c",
   "metadata": {},
   "outputs": [
    {
     "data": {
      "text/html": [
       "<div>\n",
       "<style scoped>\n",
       "    .dataframe tbody tr th:only-of-type {\n",
       "        vertical-align: middle;\n",
       "    }\n",
       "\n",
       "    .dataframe tbody tr th {\n",
       "        vertical-align: top;\n",
       "    }\n",
       "\n",
       "    .dataframe thead th {\n",
       "        text-align: right;\n",
       "    }\n",
       "</style>\n",
       "<table border=\"1\" class=\"dataframe\">\n",
       "  <thead>\n",
       "    <tr style=\"text-align: right;\">\n",
       "      <th></th>\n",
       "      <th>anonymous_id</th>\n",
       "      <th>business_zoned</th>\n",
       "      <th>context_app_version</th>\n",
       "      <th>context_device_id</th>\n",
       "      <th>context_os_name</th>\n",
       "      <th>event_name</th>\n",
       "      <th>received_at</th>\n",
       "      <th>created_at</th>\n",
       "    </tr>\n",
       "  </thead>\n",
       "  <tbody>\n",
       "    <tr>\n",
       "      <th>0</th>\n",
       "      <td>9DDC5BCD-0477-4E83-A32A-51013DA0A4E7</td>\n",
       "      <td>Hamburg</td>\n",
       "      <td>3.1.13</td>\n",
       "      <td>7A718FF6-584F-40E2-939D-224231295B1E</td>\n",
       "      <td>iOS</td>\n",
       "      <td>Out-Of-Business Zone View Shown</td>\n",
       "      <td>2020-09-01 23:59:44</td>\n",
       "      <td>2020-09-01 23:59:18</td>\n",
       "    </tr>\n",
       "    <tr>\n",
       "      <th>1</th>\n",
       "      <td>5592E78E-CE87-4258-B8D7-DD834A687A1E</td>\n",
       "      <td>Hamburg</td>\n",
       "      <td>3.1.13</td>\n",
       "      <td>11D0CB16-DA38-4565-9C3B-066E7877856C</td>\n",
       "      <td>iOS</td>\n",
       "      <td>Application Opened</td>\n",
       "      <td>2020-09-01 23:59:41</td>\n",
       "      <td>2020-09-01 23:59:35</td>\n",
       "    </tr>\n",
       "    <tr>\n",
       "      <th>2</th>\n",
       "      <td>5592E78E-CE87-4258-B8D7-DD834A687A1E</td>\n",
       "      <td>Hamburg</td>\n",
       "      <td>3.1.13</td>\n",
       "      <td>11D0CB16-DA38-4565-9C3B-066E7877856C</td>\n",
       "      <td>iOS</td>\n",
       "      <td>Ride Done - Successful</td>\n",
       "      <td>2020-09-01 23:59:41</td>\n",
       "      <td>2020-09-01 23:59:37</td>\n",
       "    </tr>\n",
       "    <tr>\n",
       "      <th>3</th>\n",
       "      <td>5592E78E-CE87-4258-B8D7-DD834A687A1E</td>\n",
       "      <td>Hamburg</td>\n",
       "      <td>3.1.13</td>\n",
       "      <td>11D0CB16-DA38-4565-9C3B-066E7877856C</td>\n",
       "      <td>iOS</td>\n",
       "      <td>Application Opened</td>\n",
       "      <td>2020-09-01 23:59:36</td>\n",
       "      <td>2020-09-01 23:37:46</td>\n",
       "    </tr>\n",
       "    <tr>\n",
       "      <th>4</th>\n",
       "      <td>5592E78E-CE87-4258-B8D7-DD834A687A1E</td>\n",
       "      <td>Hamburg</td>\n",
       "      <td>3.1.13</td>\n",
       "      <td>11D0CB16-DA38-4565-9C3B-066E7877856C</td>\n",
       "      <td>iOS</td>\n",
       "      <td>Ride Done - Unsuccessful</td>\n",
       "      <td>2020-09-01 23:59:36</td>\n",
       "      <td>2020-09-01 23:37:52</td>\n",
       "    </tr>\n",
       "  </tbody>\n",
       "</table>\n",
       "</div>"
      ],
      "text/plain": [
       "                           anonymous_id business_zoned context_app_version   \n",
       "0  9DDC5BCD-0477-4E83-A32A-51013DA0A4E7        Hamburg              3.1.13  \\\n",
       "1  5592E78E-CE87-4258-B8D7-DD834A687A1E        Hamburg              3.1.13   \n",
       "2  5592E78E-CE87-4258-B8D7-DD834A687A1E        Hamburg              3.1.13   \n",
       "3  5592E78E-CE87-4258-B8D7-DD834A687A1E        Hamburg              3.1.13   \n",
       "4  5592E78E-CE87-4258-B8D7-DD834A687A1E        Hamburg              3.1.13   \n",
       "\n",
       "                      context_device_id context_os_name   \n",
       "0  7A718FF6-584F-40E2-939D-224231295B1E             iOS  \\\n",
       "1  11D0CB16-DA38-4565-9C3B-066E7877856C             iOS   \n",
       "2  11D0CB16-DA38-4565-9C3B-066E7877856C             iOS   \n",
       "3  11D0CB16-DA38-4565-9C3B-066E7877856C             iOS   \n",
       "4  11D0CB16-DA38-4565-9C3B-066E7877856C             iOS   \n",
       "\n",
       "                        event_name          received_at           created_at  \n",
       "0  Out-Of-Business Zone View Shown  2020-09-01 23:59:44  2020-09-01 23:59:18  \n",
       "1               Application Opened  2020-09-01 23:59:41  2020-09-01 23:59:35  \n",
       "2           Ride Done - Successful  2020-09-01 23:59:41  2020-09-01 23:59:37  \n",
       "3               Application Opened  2020-09-01 23:59:36  2020-09-01 23:37:46  \n",
       "4         Ride Done - Unsuccessful  2020-09-01 23:59:36  2020-09-01 23:37:52  "
      ]
     },
     "execution_count": 11,
     "metadata": {},
     "output_type": "execute_result"
    }
   ],
   "source": [
    "df.head()"
   ]
  },
  {
   "cell_type": "code",
   "execution_count": 12,
   "id": "0d6aed51",
   "metadata": {},
   "outputs": [
    {
     "data": {
      "text/plain": [
       "Index(['anonymous_id', 'business_zoned', 'context_app_version',\n",
       "       'context_device_id', 'context_os_name', 'event_name', 'received_at',\n",
       "       'created_at'],\n",
       "      dtype='object')"
      ]
     },
     "execution_count": 12,
     "metadata": {},
     "output_type": "execute_result"
    }
   ],
   "source": [
    "df.columns"
   ]
  },
  {
   "cell_type": "markdown",
   "id": "3dbb4746",
   "metadata": {},
   "source": [
    "7. Answer the following questions  using dataset provided below\n",
    "\n",
    "1. What is the % of sessions with an intention to book a scooter?\n",
    " 2. What is the % of sessions with a successful booking? 3. What determines, according to you, an intention to book?\n",
    "4. What are factors, according to you, determining a successful booking? \n",
    "5. Do you have any hypotheses after exploring this data? If yes, please add them.  "
   ]
  },
  {
   "cell_type": "code",
   "execution_count": 20,
   "id": "4d7d6a1d",
   "metadata": {},
   "outputs": [
    {
     "name": "stdout",
     "output_type": "stream",
     "text": [
      "Percentage of sessions with an intention to book a scooter: nan\n",
      "Percentage of sessions with a successful booking: nan\n"
     ]
    }
   ],
   "source": [
    "\n",
    "# Identify the events that indicate an intention to book a scooter\n",
    "intention_to_book_events = [\"scooter_search\", \"scooter_details_viewed\"]\n",
    "\n",
    "# Count the number of events in each category\n",
    "number_of_intention_to_book_events = (\n",
    "    df[df[\"event_name\"].isin(intention_to_book_events)]\n",
    "    .groupby(\"anonymous_id\")\n",
    "    .size()\n",
    ")\n",
    "number_of_total_events = df.groupby(\"anonymous_id\").size()\n",
    "\n",
    "# Calculate the percentage of sessions with an intention to book a scooter\n",
    "percentage_of_sessions_with_intention_to_book = (\n",
    "    number_of_intention_to_book_events / number_of_total_events * 100\n",
    ")\n",
    "\n",
    "# Identify the events that indicate a successful booking\n",
    "successful_booking_events = [\"scooter_booked\"]\n",
    "\n",
    "# Count the number of events in each category\n",
    "number_of_successful_booking_events = (\n",
    "    df[df[\"event_name\"].isin(successful_booking_events)]\n",
    "    .groupby(\"anonymous_id\")\n",
    "    .size()\n",
    ")\n",
    "\n",
    "# Calculate the percentage of sessions with a successful booking\n",
    "percentage_of_sessions_with_successful_booking = (\n",
    "    number_of_successful_booking_events / number_of_total_events * 100\n",
    ")\n",
    "\n",
    "# Print the results\n",
    "print(\"Percentage of sessions with an intention to book a scooter:\", percentage_of_sessions_with_intention_to_book.mean())\n",
    "print(\"Percentage of sessions with a successful booking:\", percentage_of_sessions_with_successful_booking.mean())"
   ]
  },
  {
   "cell_type": "code",
   "execution_count": null,
   "id": "53493b82",
   "metadata": {},
   "outputs": [],
   "source": []
  }
 ],
 "metadata": {
  "kernelspec": {
   "display_name": "Python 3 (ipykernel)",
   "language": "python",
   "name": "python3"
  },
  "language_info": {
   "codemirror_mode": {
    "name": "ipython",
    "version": 3
   },
   "file_extension": ".py",
   "mimetype": "text/x-python",
   "name": "python",
   "nbconvert_exporter": "python",
   "pygments_lexer": "ipython3",
   "version": "3.10.9"
  }
 },
 "nbformat": 4,
 "nbformat_minor": 5
}
