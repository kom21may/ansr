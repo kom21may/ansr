{
 "cells": [
  {
   "cell_type": "code",
   "execution_count": 1,
   "id": "1daee1eb",
   "metadata": {},
   "outputs": [
    {
     "ename": "SyntaxError",
     "evalue": "unterminated string literal (detected at line 8) (3203699635.py, line 8)",
     "output_type": "error",
     "traceback": [
      "\u001b[1;36m  Cell \u001b[1;32mIn[1], line 8\u001b[1;36m\u001b[0m\n\u001b[1;33m    ' Set the worksheet\u001b[0m\n\u001b[1;37m    ^\u001b[0m\n\u001b[1;31mSyntaxError\u001b[0m\u001b[1;31m:\u001b[0m unterminated string literal (detected at line 8)\n"
     ]
    }
   ],
   "source": [
    "Sub CalculateTotalRevenue()\n",
    "    Dim ws As Worksheet\n",
    "    Dim lastRow As Long\n",
    "    Dim productColumn As Long, quantityColumn As Long, priceColumn As Long\n",
    "    Dim totalRevenueColumn As Long\n",
    "    Dim i As Long\n",
    "    \n",
    "    ' Set the worksheet\n",
    "    Set ws = ThisWorkbook.Sheets(\"SalesData\")\n",
    "    \n",
    "    ' Find the last row in the data\n",
    "    lastRow = ws.Cells(ws.Rows.Count, \"A\").End(xlUp).Row\n",
    "    \n",
    "    ' Set the column numbers\n",
    "    productColumn = 1 ' Column A\n",
    "    quantityColumn = 2 ' Column B\n",
    "    priceColumn = 3 ' Column C\n",
    "    totalRevenueColumn = 4 ' Column D (new column)\n",
    "    \n",
    "    ' Add header for Total Revenue column\n",
    "    ws.Cells(1, totalRevenueColumn).Value = \"Total Revenue\"\n",
    "    \n",
    "    ' Calculate and fill total revenue for each row\n",
    "    For i = 2 To lastRow\n",
    "        ws.Cells(i, totalRevenueColumn).Value = ws.Cells(i, quantityColumn).Value * ws.Cells(i, priceColumn).Value\n",
    "    Next i\n",
    "End Sub\n"
   ]
  },
  {
   "cell_type": "code",
   "execution_count": null,
   "id": "baf331ad",
   "metadata": {},
   "outputs": [],
   "source": []
  }
 ],
 "metadata": {
  "kernelspec": {
   "display_name": "Python 3 (ipykernel)",
   "language": "python",
   "name": "python3"
  },
  "language_info": {
   "codemirror_mode": {
    "name": "ipython",
    "version": 3
   },
   "file_extension": ".py",
   "mimetype": "text/x-python",
   "name": "python",
   "nbconvert_exporter": "python",
   "pygments_lexer": "ipython3",
   "version": "3.10.9"
  }
 },
 "nbformat": 4,
 "nbformat_minor": 5
}
